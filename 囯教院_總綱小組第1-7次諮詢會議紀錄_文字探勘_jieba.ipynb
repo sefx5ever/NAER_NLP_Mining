{
 "cells": [
  {
   "cell_type": "markdown",
   "metadata": {},
   "source": [
    "## 套件匯入"
   ]
  },
  {
   "cell_type": "code",
   "execution_count": 1,
   "metadata": {},
   "outputs": [],
   "source": [
    "import pandas as pd\n",
    "import plotly.express as px\n",
    "import pickle\n",
    "import re\n",
    "import string\n",
    "import zhon\n",
    "import text2vec\n",
    "import jieba\n",
    "import jieba.analyse\n",
    "import jieba.posseg as pseg\n",
    "import plotly.express as px\n",
    "from text2vec import SearchSimilarity\n",
    "from docx import Document\n",
    "from zhon.hanzi import punctuation\n",
    "from sklearn.preprocessing import StandardScaler\n",
    "from sklearn.decomposition import PCA"
   ]
  },
  {
   "cell_type": "markdown",
   "metadata": {},
   "source": [
    "## 讀取檔案"
   ]
  },
  {
   "cell_type": "code",
   "execution_count": 2,
   "metadata": {},
   "outputs": [],
   "source": [
    "f = open('C:/Users/sefx5/Downloads/議程附件4-總綱小組第1-7次諮詢會議紀錄(稿).docx','rb')\n",
    "document = Document(f)"
   ]
  },
  {
   "cell_type": "markdown",
   "metadata": {},
   "source": [
    "## 截取會議内容與參與會議人員（本院 / 非本院）"
   ]
  },
  {
   "cell_type": "code",
   "execution_count": 3,
   "metadata": {},
   "outputs": [],
   "source": [
    "sentence_list,save_content = [],False\n",
    "for para in document.paragraphs:\n",
    "    if (save_content) and (para.text != '' or para.text != '\\n'):\n",
    "        sentence_list.append(para.text)\n",
    "    if para.text == '發言紀要：':\n",
    "        save_content = True\n",
    "    if para.text[:5] == '決  議：':\n",
    "        save_content = False"
   ]
  },
  {
   "cell_type": "markdown",
   "metadata": {},
   "source": [
    "## 讀入人員名單 Pickle 檔"
   ]
  },
  {
   "cell_type": "code",
   "execution_count": 4,
   "metadata": {},
   "outputs": [
    {
     "name": "stdout",
     "output_type": "stream",
     "text": [
      "完成寫入 \n",
      "->本院人數：7 \n",
      "->非本院人數： 116 \n",
      "->Total：123\n"
     ]
    }
   ],
   "source": [
    "# 輸入名單\n",
    "\n",
    "# 將人員列表分爲：\n",
    "## 1.全體人員 -> final_ppl\n",
    "## 2.本院人員 -> final_in_ppl\n",
    "## 3.非本院人員 -> final_out_ppl\n",
    "\n",
    "infile = open('attendance_list.pkl','rb')\n",
    "new_dict = pickle.load(infile)\n",
    "final_in_ppl,final_out_ppl,final_ppl = new_dict[0],new_dict[1],new_dict[2]\n",
    "print(f'完成寫入 \\n->本院人數：{len(final_in_ppl)} \\n->非本院人數： {len(final_out_ppl)} \\n->Total：{len(final_ppl)}')"
   ]
  },
  {
   "cell_type": "markdown",
   "metadata": {},
   "source": [
    "## 字典建置"
   ]
  },
  {
   "cell_type": "code",
   "execution_count": null,
   "metadata": {},
   "outputs": [],
   "source": [
    "# 建立 KOL 字典\n",
    "with open('kol.txt','wb') as f:\n",
    "    for ppl in final_ppl:\n",
    "        f.write(f'{ppl} 2000 nr \\n'.encode('utf-8'))\n",
    "    f.close()"
   ]
  },
  {
   "cell_type": "markdown",
   "metadata": {},
   "source": [
    "## 字典匯入 Jieba"
   ]
  },
  {
   "cell_type": "code",
   "execution_count": 5,
   "metadata": {},
   "outputs": [],
   "source": [
    "jieba.set_dictionary('./dict.txt.big.txt')\n",
    "jieba.load_userdict('./kol.txt')"
   ]
  },
  {
   "cell_type": "markdown",
   "metadata": {},
   "source": [
    "## 觀察資料與剖析"
   ]
  },
  {
   "cell_type": "code",
   "execution_count": 6,
   "metadata": {},
   "outputs": [],
   "source": [
    "#过滤中英文标点符号、字母、数字\n",
    "def filter_punc(desstr:list,restr=''):\n",
    "    pattern = re.compile(\"[%s]+\" % string.punctuation + \"|[%s]+\" % zhon.hanzi.punctuation + \"|[%s]+\" % 'a-zA-Z0-9') #匹配中英文符号及字母数字\n",
    "    filter_ = [pattern.sub(restr,each_sentence) for each_sentence in desstr]\n",
    "    return filter_"
   ]
  },
  {
   "cell_type": "code",
   "execution_count": 7,
   "metadata": {},
   "outputs": [
    {
     "name": "stdout",
     "output_type": "stream",
     "text": [
      "會議記錄截取後的句子數量 ： 513\n"
     ]
    }
   ],
   "source": [
    "# 清整中英文标点符号、字母、数字\n",
    "filter_ = filter_punc(sentence_list)\n",
    "print('會議記錄截取後的句子數量 ：',len(filter_))"
   ]
  },
  {
   "cell_type": "markdown",
   "metadata": {},
   "source": [
    "## 人物對發言"
   ]
  },
  {
   "cell_type": "code",
   "execution_count": 8,
   "metadata": {},
   "outputs": [
    {
     "name": "stdout",
     "output_type": "stream",
     "text": [
      "經人物發言歸類後所剩下的人數為78人\n",
      "從原有的123人歸類後剩下78人\n"
     ]
    }
   ],
   "source": [
    "# 詞性標記並截取 【名詞 / 動詞 / 形容詞】,將不同發言人的内容進行歸類\n",
    "speech = {}\n",
    "coll_perm = False\n",
    "name = ''\n",
    "\n",
    "for each_sentence in filter_:\n",
    "    words = pseg.cut(each_sentence)\n",
    "    for word,flag in words:\n",
    "        if word in final_ppl:\n",
    "            name = word\n",
    "            speech[name] = []\n",
    "            coll_perm = True\n",
    "            break\n",
    "        if coll_perm:\n",
    "            if (word.strip() != ''):\n",
    "                if flag in ['n','nz','a','v','vd']:\n",
    "                    speech[name].append(word)\n",
    "print(f'經人物發言歸類後所剩下的人數為{len(speech)}人')\n",
    "print(f'從原有的{len(final_ppl)}人歸類後剩下{len(speech)}人')"
   ]
  },
  {
   "cell_type": "markdown",
   "metadata": {},
   "source": [
    "## 檢查被去除人員名單"
   ]
  },
  {
   "cell_type": "code",
   "execution_count": 9,
   "metadata": {},
   "outputs": [
    {
     "name": "stdout",
     "output_type": "stream",
     "text": [
      "['林侑欣', '黃秀霞', '張箴言', '林宜誠', '郭靜靜', '陳松根', '江俊龍', '鄭慶民', '盧台華', '何孟軒', '彭宬', '顏綠芬', '劉芝芳', '杜思慧', '洪詠善', '張名華', '潘慧玲', '林致宇', '馮喬蘭', '李麗琦', '林秀英', '胡茹萍', '鍾雯豐', '李美娟', '黃啟煌', '曾淑惠', '王俊諺', '陳貴馨', '徐青雲', '政傑', '陳盈儒', '巫彰玫', '許秀菁', '周志宏', '李勤岸', '鄭勝耀', '沂', '葉興華', '張國保', '海樹兒．犮剌拉菲', '鍾屏蘭', '楊曉菁', '劉彥辰', '顏慶祥', '李怡穎']\n",
      "\n",
      "被列入 ignore_list 人員大部分僅爲會議出席者！ \n",
      "該人數為45人\n"
     ]
    }
   ],
   "source": [
    "ignore_list = list(set(final_ppl).difference(set(speech.keys())))\n",
    "print(ignore_list)\n",
    "print(f'\\n被列入 ignore_list 人員大部分僅爲會議出席者！ \\n該人數為{len(ignore_list)}人')"
   ]
  },
  {
   "cell_type": "markdown",
   "metadata": {},
   "source": [
    "## 人物發言歸類"
   ]
  },
  {
   "cell_type": "code",
   "execution_count": 10,
   "metadata": {},
   "outputs": [
    {
     "data": {
      "text/html": [
       "<div>\n",
       "<style scoped>\n",
       "    .dataframe tbody tr th:only-of-type {\n",
       "        vertical-align: middle;\n",
       "    }\n",
       "\n",
       "    .dataframe tbody tr th {\n",
       "        vertical-align: top;\n",
       "    }\n",
       "\n",
       "    .dataframe thead th {\n",
       "        text-align: right;\n",
       "    }\n",
       "</style>\n",
       "<table border=\"1\" class=\"dataframe\">\n",
       "  <thead>\n",
       "    <tr style=\"text-align: right;\">\n",
       "      <th></th>\n",
       "      <th>name</th>\n",
       "      <th>sentence</th>\n",
       "    </tr>\n",
       "  </thead>\n",
       "  <tbody>\n",
       "    <tr>\n",
       "      <th>0</th>\n",
       "      <td>潘信宏</td>\n",
       "      <td>[通用, 一般, 不同, 叫, 中文, 教授, 歌, 大量, 啟聰, 打, 文字, 造成, ...</td>\n",
       "    </tr>\n",
       "    <tr>\n",
       "      <th>1</th>\n",
       "      <td>楊秀菁</td>\n",
       "      <td>[本院, 中心]</td>\n",
       "    </tr>\n",
       "    <tr>\n",
       "      <th>2</th>\n",
       "      <td>吳律德</td>\n",
       "      <td>[本院, 中心]</td>\n",
       "    </tr>\n",
       "    <tr>\n",
       "      <th>3</th>\n",
       "      <td>李川信</td>\n",
       "      <td>[]</td>\n",
       "    </tr>\n",
       "    <tr>\n",
       "      <th>4</th>\n",
       "      <td>李文富</td>\n",
       "      <td>[原住, 民族, 部定, 是否, 考量, 課, 綱, 做, 本土, 配套措施, 市政府, 教育局]</td>\n",
       "    </tr>\n",
       "  </tbody>\n",
       "</table>\n",
       "</div>"
      ],
      "text/plain": [
       "  name                                           sentence\n",
       "0  潘信宏  [通用, 一般, 不同, 叫, 中文, 教授, 歌, 大量, 啟聰, 打, 文字, 造成, ...\n",
       "1  楊秀菁                                           [本院, 中心]\n",
       "2  吳律德                                           [本院, 中心]\n",
       "3  李川信                                                 []\n",
       "4  李文富  [原住, 民族, 部定, 是否, 考量, 課, 綱, 做, 本土, 配套措施, 市政府, 教育局]"
      ]
     },
     "execution_count": 10,
     "metadata": {},
     "output_type": "execute_result"
    }
   ],
   "source": [
    "# 裝歡 Data Frame 格式\n",
    "name_list = list(speech.keys())\n",
    "sentence_list = list(speech.values())\n",
    "df = pd.DataFrame({'name' : name_list , 'sentence' : sentence_list })\n",
    "df.head()"
   ]
  },
  {
   "cell_type": "code",
   "execution_count": 15,
   "metadata": {},
   "outputs": [
    {
     "name": "stdout",
     "output_type": "stream",
     "text": [
      "(32, 3)\n"
     ]
    },
    {
     "data": {
      "text/html": [
       "<div>\n",
       "<style scoped>\n",
       "    .dataframe tbody tr th:only-of-type {\n",
       "        vertical-align: middle;\n",
       "    }\n",
       "\n",
       "    .dataframe tbody tr th {\n",
       "        vertical-align: top;\n",
       "    }\n",
       "\n",
       "    .dataframe thead th {\n",
       "        text-align: right;\n",
       "    }\n",
       "</style>\n",
       "<table border=\"1\" class=\"dataframe\">\n",
       "  <thead>\n",
       "    <tr style=\"text-align: right;\">\n",
       "      <th></th>\n",
       "      <th>name</th>\n",
       "      <th>sentence</th>\n",
       "      <th>len_sentence</th>\n",
       "    </tr>\n",
       "  </thead>\n",
       "  <tbody>\n",
       "    <tr>\n",
       "      <th>0</th>\n",
       "      <td>潘信宏</td>\n",
       "      <td>[通用, 一般, 不同, 叫, 中文, 教授, 歌, 大量, 啟聰, 打, 文字, 造成, ...</td>\n",
       "      <td>18</td>\n",
       "    </tr>\n",
       "    <tr>\n",
       "      <th>4</th>\n",
       "      <td>李文富</td>\n",
       "      <td>[原住, 民族, 部定, 是否, 考量, 課, 綱, 做, 本土, 配套措施, 市政府, 教育局]</td>\n",
       "      <td>12</td>\n",
       "    </tr>\n",
       "    <tr>\n",
       "      <th>5</th>\n",
       "      <td>廖浩翔</td>\n",
       "      <td>[基本, 身心, 特殊, 需求, 教授, 作為, 課綱, 身心, 一般, 理解, 需求, 困...</td>\n",
       "      <td>62</td>\n",
       "    </tr>\n",
       "    <tr>\n",
       "      <th>7</th>\n",
       "      <td>黃致誠</td>\n",
       "      <td>[支持, 放在, 核心, 身為, 原住民, 耆老, 注重, 計畫, 會, 要求, 放在, 附...</td>\n",
       "      <td>14</td>\n",
       "    </tr>\n",
       "    <tr>\n",
       "      <th>11</th>\n",
       "      <td>范智鈞</td>\n",
       "      <td>[切得, 去, 思考, 門, 課, 要, 安排, 小, 不易, 重心, 會, 會, 形成, ...</td>\n",
       "      <td>37</td>\n",
       "    </tr>\n",
       "  </tbody>\n",
       "</table>\n",
       "</div>"
      ],
      "text/plain": [
       "   name                                           sentence  len_sentence\n",
       "0   潘信宏  [通用, 一般, 不同, 叫, 中文, 教授, 歌, 大量, 啟聰, 打, 文字, 造成, ...            18\n",
       "4   李文富  [原住, 民族, 部定, 是否, 考量, 課, 綱, 做, 本土, 配套措施, 市政府, 教育局]            12\n",
       "5   廖浩翔  [基本, 身心, 特殊, 需求, 教授, 作為, 課綱, 身心, 一般, 理解, 需求, 困...            62\n",
       "7   黃致誠  [支持, 放在, 核心, 身為, 原住民, 耆老, 注重, 計畫, 會, 要求, 放在, 附...            14\n",
       "11  范智鈞  [切得, 去, 思考, 門, 課, 要, 安排, 小, 不易, 重心, 會, 會, 形成, ...            37"
      ]
     },
     "execution_count": 15,
     "metadata": {},
     "output_type": "execute_result"
    }
   ],
   "source": [
    "df['len_sentence'] = df['sentence'].apply(lambda list_: len(list_))\n",
    "df = df[df['len_sentence']  > 10]\n",
    "print(df.shape)\n",
    "df.head()"
   ]
  },
  {
   "cell_type": "markdown",
   "metadata": {},
   "source": [
    "## Article Similarities"
   ]
  },
  {
   "cell_type": "code",
   "execution_count": 16,
   "metadata": {},
   "outputs": [],
   "source": [
    "# 將斷詞後的句子重組，並放在 1 個 list 中\n",
    "corpus = [''.join(sentence) for sentence in list(df['sentence'])]\n",
    "search_sim = SearchSimilarity(corpus=corpus)\n",
    "\n",
    "# search_sim.get_scores(query=corpus[no]) # 個人發言之相似度向量\n",
    "# search_sim.get_similarities(query=corpus[no]) # 個人發言之相似度重組句子"
   ]
  },
  {
   "cell_type": "code",
   "execution_count": 17,
   "metadata": {},
   "outputs": [
    {
     "name": "stderr",
     "output_type": "stream",
     "text": [
      "C:\\Users\\sefx5\\Anaconda3\\lib\\site-packages\\ipykernel_launcher.py:2: SettingWithCopyWarning:\n",
      "\n",
      "\n",
      "A value is trying to be set on a copy of a slice from a DataFrame.\n",
      "Try using .loc[row_indexer,col_indexer] = value instead\n",
      "\n",
      "See the caveats in the documentation: http://pandas.pydata.org/pandas-docs/stable/indexing.html#indexing-view-versus-copy\n",
      "\n",
      "C:\\Users\\sefx5\\Anaconda3\\lib\\site-packages\\ipykernel_launcher.py:3: SettingWithCopyWarning:\n",
      "\n",
      "\n",
      "A value is trying to be set on a copy of a slice from a DataFrame.\n",
      "Try using .loc[row_indexer,col_indexer] = value instead\n",
      "\n",
      "See the caveats in the documentation: http://pandas.pydata.org/pandas-docs/stable/indexing.html#indexing-view-versus-copy\n",
      "\n"
     ]
    },
    {
     "data": {
      "text/html": [
       "<div>\n",
       "<style scoped>\n",
       "    .dataframe tbody tr th:only-of-type {\n",
       "        vertical-align: middle;\n",
       "    }\n",
       "\n",
       "    .dataframe tbody tr th {\n",
       "        vertical-align: top;\n",
       "    }\n",
       "\n",
       "    .dataframe thead th {\n",
       "        text-align: right;\n",
       "    }\n",
       "</style>\n",
       "<table border=\"1\" class=\"dataframe\">\n",
       "  <thead>\n",
       "    <tr style=\"text-align: right;\">\n",
       "      <th></th>\n",
       "      <th>name</th>\n",
       "      <th>sentence</th>\n",
       "      <th>len_sentence</th>\n",
       "      <th>corpus</th>\n",
       "      <th>scores</th>\n",
       "    </tr>\n",
       "  </thead>\n",
       "  <tbody>\n",
       "    <tr>\n",
       "      <th>0</th>\n",
       "      <td>潘信宏</td>\n",
       "      <td>[通用, 一般, 不同, 叫, 中文, 教授, 歌, 大量, 啟聰, 打, 文字, 造成, ...</td>\n",
       "      <td>18</td>\n",
       "      <td>通用一般不同叫中文教授歌大量啟聰打文字造成是故教育部不能應辦</td>\n",
       "      <td>[52.0136412752401, 0.0, 5.173664308075342, 0.0...</td>\n",
       "    </tr>\n",
       "    <tr>\n",
       "      <th>1</th>\n",
       "      <td>李文富</td>\n",
       "      <td>[原住, 民族, 部定, 是否, 考量, 課, 綱, 做, 本土, 配套措施, 市政府, 教育局]</td>\n",
       "      <td>12</td>\n",
       "      <td>原住民族部定是否考量課綱做本土配套措施市政府教育局</td>\n",
       "      <td>[0.0, 23.406695319053355, 2.894136928594631, 0...</td>\n",
       "    </tr>\n",
       "    <tr>\n",
       "      <th>2</th>\n",
       "      <td>廖浩翔</td>\n",
       "      <td>[基本, 身心, 特殊, 需求, 教授, 作為, 課綱, 身心, 一般, 理解, 需求, 困...</td>\n",
       "      <td>62</td>\n",
       "      <td>基本身心特殊需求教授作為課綱身心一般理解需求困境群體基本身心特殊需求是否符合需求修改程考量可...</td>\n",
       "      <td>[10.222864022189789, 8.296599871499788, 135.71...</td>\n",
       "    </tr>\n",
       "    <tr>\n",
       "      <th>3</th>\n",
       "      <td>黃致誠</td>\n",
       "      <td>[支持, 放在, 核心, 身為, 原住民, 耆老, 注重, 計畫, 會, 要求, 放在, 附...</td>\n",
       "      <td>14</td>\n",
       "      <td>支持放在核心身為原住民耆老注重計畫會要求放在附件本土公民</td>\n",
       "      <td>[0.0, 0.9874676888628043, 4.656881272084541, 4...</td>\n",
       "    </tr>\n",
       "    <tr>\n",
       "      <th>4</th>\n",
       "      <td>范智鈞</td>\n",
       "      <td>[切得, 去, 思考, 門, 課, 要, 安排, 小, 不易, 重心, 會, 會, 形成, ...</td>\n",
       "      <td>37</td>\n",
       "      <td>切得去思考門課要安排小不易重心會會形成重心本土教育部客語原民會原住民能讓免修本土作法能具有程...</td>\n",
       "      <td>[1.402081756118654, 4.937338444314022, 8.66067...</td>\n",
       "    </tr>\n",
       "  </tbody>\n",
       "</table>\n",
       "</div>"
      ],
      "text/plain": [
       "  name                                           sentence  len_sentence  \\\n",
       "0  潘信宏  [通用, 一般, 不同, 叫, 中文, 教授, 歌, 大量, 啟聰, 打, 文字, 造成, ...            18   \n",
       "1  李文富  [原住, 民族, 部定, 是否, 考量, 課, 綱, 做, 本土, 配套措施, 市政府, 教育局]            12   \n",
       "2  廖浩翔  [基本, 身心, 特殊, 需求, 教授, 作為, 課綱, 身心, 一般, 理解, 需求, 困...            62   \n",
       "3  黃致誠  [支持, 放在, 核心, 身為, 原住民, 耆老, 注重, 計畫, 會, 要求, 放在, 附...            14   \n",
       "4  范智鈞  [切得, 去, 思考, 門, 課, 要, 安排, 小, 不易, 重心, 會, 會, 形成, ...            37   \n",
       "\n",
       "                                              corpus  \\\n",
       "0                     通用一般不同叫中文教授歌大量啟聰打文字造成是故教育部不能應辦   \n",
       "1                          原住民族部定是否考量課綱做本土配套措施市政府教育局   \n",
       "2  基本身心特殊需求教授作為課綱身心一般理解需求困境群體基本身心特殊需求是否符合需求修改程考量可...   \n",
       "3                       支持放在核心身為原住民耆老注重計畫會要求放在附件本土公民   \n",
       "4  切得去思考門課要安排小不易重心會會形成重心本土教育部客語原民會原住民能讓免修本土作法能具有程...   \n",
       "\n",
       "                                              scores  \n",
       "0  [52.0136412752401, 0.0, 5.173664308075342, 0.0...  \n",
       "1  [0.0, 23.406695319053355, 2.894136928594631, 0...  \n",
       "2  [10.222864022189789, 8.296599871499788, 135.71...  \n",
       "3  [0.0, 0.9874676888628043, 4.656881272084541, 4...  \n",
       "4  [1.402081756118654, 4.937338444314022, 8.66067...  "
      ]
     },
     "execution_count": 17,
     "metadata": {},
     "output_type": "execute_result"
    }
   ],
   "source": [
    "# 將重組句子及文章相似度之向量寫入 DataFrame\n",
    "df['corpus'] = corpus\n",
    "df['scores'] = df['corpus'].apply(lambda sentence: search_sim.get_scores(sentence))\n",
    "df = df.reset_index(drop = True)\n",
    "df.head()"
   ]
  },
  {
   "cell_type": "code",
   "execution_count": 18,
   "metadata": {},
   "outputs": [
    {
     "name": "stdout",
     "output_type": "stream",
     "text": [
      "(32, 7)\n"
     ]
    },
    {
     "data": {
      "text/html": [
       "<div>\n",
       "<style scoped>\n",
       "    .dataframe tbody tr th:only-of-type {\n",
       "        vertical-align: middle;\n",
       "    }\n",
       "\n",
       "    .dataframe tbody tr th {\n",
       "        vertical-align: top;\n",
       "    }\n",
       "\n",
       "    .dataframe thead th {\n",
       "        text-align: right;\n",
       "    }\n",
       "</style>\n",
       "<table border=\"1\" class=\"dataframe\">\n",
       "  <thead>\n",
       "    <tr style=\"text-align: right;\">\n",
       "      <th></th>\n",
       "      <th>name</th>\n",
       "      <th>sentence</th>\n",
       "      <th>len_sentence</th>\n",
       "      <th>corpus</th>\n",
       "      <th>scores</th>\n",
       "      <th>label</th>\n",
       "      <th>similarities</th>\n",
       "    </tr>\n",
       "  </thead>\n",
       "  <tbody>\n",
       "    <tr>\n",
       "      <th>0</th>\n",
       "      <td>潘信宏</td>\n",
       "      <td>[通用, 一般, 不同, 叫, 中文, 教授, 歌, 大量, 啟聰, 打, 文字, 造成, ...</td>\n",
       "      <td>18</td>\n",
       "      <td>通用一般不同叫中文教授歌大量啟聰打文字造成是故教育部不能應辦</td>\n",
       "      <td>[52.0136412752401, 0.0, 5.173664308075342, 0.0...</td>\n",
       "      <td>張明旭</td>\n",
       "      <td>5.290268</td>\n",
       "    </tr>\n",
       "    <tr>\n",
       "      <th>1</th>\n",
       "      <td>李文富</td>\n",
       "      <td>[原住, 民族, 部定, 是否, 考量, 課, 綱, 做, 本土, 配套措施, 市政府, 教育局]</td>\n",
       "      <td>12</td>\n",
       "      <td>原住民族部定是否考量課綱做本土配套措施市政府教育局</td>\n",
       "      <td>[0.0, 23.406695319053355, 2.894136928594631, 0...</td>\n",
       "      <td>顏國樑</td>\n",
       "      <td>7.252580</td>\n",
       "    </tr>\n",
       "    <tr>\n",
       "      <th>2</th>\n",
       "      <td>廖浩翔</td>\n",
       "      <td>[基本, 身心, 特殊, 需求, 教授, 作為, 課綱, 身心, 一般, 理解, 需求, 困...</td>\n",
       "      <td>62</td>\n",
       "      <td>基本身心特殊需求教授作為課綱身心一般理解需求困境群體基本身心特殊需求是否符合需求修改程考量可...</td>\n",
       "      <td>[10.222864022189789, 8.296599871499788, 135.71...</td>\n",
       "      <td>陳志勇</td>\n",
       "      <td>19.010635</td>\n",
       "    </tr>\n",
       "    <tr>\n",
       "      <th>3</th>\n",
       "      <td>黃致誠</td>\n",
       "      <td>[支持, 放在, 核心, 身為, 原住民, 耆老, 注重, 計畫, 會, 要求, 放在, 附...</td>\n",
       "      <td>14</td>\n",
       "      <td>支持放在核心身為原住民耆老注重計畫會要求放在附件本土公民</td>\n",
       "      <td>[0.0, 0.9874676888628043, 4.656881272084541, 4...</td>\n",
       "      <td>賴慧珠</td>\n",
       "      <td>6.128988</td>\n",
       "    </tr>\n",
       "    <tr>\n",
       "      <th>4</th>\n",
       "      <td>范智鈞</td>\n",
       "      <td>[切得, 去, 思考, 門, 課, 要, 安排, 小, 不易, 重心, 會, 會, 形成, ...</td>\n",
       "      <td>37</td>\n",
       "      <td>切得去思考門課要安排小不易重心會會形成重心本土教育部客語原民會原住民能讓免修本土作法能具有程...</td>\n",
       "      <td>[1.402081756118654, 4.937338444314022, 8.66067...</td>\n",
       "      <td>張明旭</td>\n",
       "      <td>17.559774</td>\n",
       "    </tr>\n",
       "  </tbody>\n",
       "</table>\n",
       "</div>"
      ],
      "text/plain": [
       "  name                                           sentence  len_sentence  \\\n",
       "0  潘信宏  [通用, 一般, 不同, 叫, 中文, 教授, 歌, 大量, 啟聰, 打, 文字, 造成, ...            18   \n",
       "1  李文富  [原住, 民族, 部定, 是否, 考量, 課, 綱, 做, 本土, 配套措施, 市政府, 教育局]            12   \n",
       "2  廖浩翔  [基本, 身心, 特殊, 需求, 教授, 作為, 課綱, 身心, 一般, 理解, 需求, 困...            62   \n",
       "3  黃致誠  [支持, 放在, 核心, 身為, 原住民, 耆老, 注重, 計畫, 會, 要求, 放在, 附...            14   \n",
       "4  范智鈞  [切得, 去, 思考, 門, 課, 要, 安排, 小, 不易, 重心, 會, 會, 形成, ...            37   \n",
       "\n",
       "                                              corpus  \\\n",
       "0                     通用一般不同叫中文教授歌大量啟聰打文字造成是故教育部不能應辦   \n",
       "1                          原住民族部定是否考量課綱做本土配套措施市政府教育局   \n",
       "2  基本身心特殊需求教授作為課綱身心一般理解需求困境群體基本身心特殊需求是否符合需求修改程考量可...   \n",
       "3                       支持放在核心身為原住民耆老注重計畫會要求放在附件本土公民   \n",
       "4  切得去思考門課要安排小不易重心會會形成重心本土教育部客語原民會原住民能讓免修本土作法能具有程...   \n",
       "\n",
       "                                              scores label  similarities  \n",
       "0  [52.0136412752401, 0.0, 5.173664308075342, 0.0...   張明旭      5.290268  \n",
       "1  [0.0, 23.406695319053355, 2.894136928594631, 0...   顏國樑      7.252580  \n",
       "2  [10.222864022189789, 8.296599871499788, 135.71...   陳志勇     19.010635  \n",
       "3  [0.0, 0.9874676888628043, 4.656881272084541, 4...   賴慧珠      6.128988  \n",
       "4  [1.402081756118654, 4.937338444314022, 8.66067...   張明旭     17.559774  "
      ]
     },
     "execution_count": 18,
     "metadata": {},
     "output_type": "execute_result"
    }
   ],
   "source": [
    "# label 為該名人員對全體人員發言中相似度最高者\n",
    "# similarities 為該名人員對全體人員發言中的相似程度\n",
    "df['label'] = df['corpus'].apply(lambda sentence: df['name'].iloc[corpus.index(search_sim.get_similarities(query=sentence)[1])])\n",
    "df['similarities'] = df['corpus'].apply(lambda sentence: search_sim.get_scores(query=sentence)[corpus.index(search_sim.get_similarities(query=sentence)[1])])\n",
    "print(df.shape)\n",
    "df.head()"
   ]
  },
  {
   "cell_type": "code",
   "execution_count": 19,
   "metadata": {},
   "outputs": [
    {
     "name": "stdout",
     "output_type": "stream",
     "text": [
      "作爲發言相似度高之核心人過代表有 16 人\n"
     ]
    },
    {
     "data": {
      "text/plain": [
       "呂明蓁     4\n",
       "陳張培倫    4\n",
       "張明旭     4\n",
       "林家琿     3\n",
       "陳志勇     3\n",
       "許綉敏     2\n",
       "范智鈞     2\n",
       "林秀珍     2\n",
       "李立彬     1\n",
       "Name: label, dtype: int64"
      ]
     },
     "execution_count": 19,
     "metadata": {},
     "output_type": "execute_result"
    }
   ],
   "source": [
    "# 假設以這些人員名單為相似度高的主軸\n",
    "num_main = len(df['label'].unique())\n",
    "print(f\"作爲發言相似度高之核心人過代表有 {num_main} 人\")\n",
    "df['label'].value_counts()[:9]"
   ]
  },
  {
   "cell_type": "code",
   "execution_count": 20,
   "metadata": {},
   "outputs": [
    {
     "name": "stdout",
     "output_type": "stream",
     "text": [
      "【陳志勇】 對陳張培倫之交集為 : {'需', '寒暑假', '本土', '原住民', '不同', '可', '部定', '思考', '考量', '是否', '列入', '需求'}\n",
      "========================================================================================================================\n",
      "【林秀珍】 對陳張培倫之交集為 : {'中心', '必修', '新', '部定', '考量', '普通型', '寒暑假', '能', '原住民', '有', '本院', '住民', '本土', '附件', '基本法', '思考', '陸', '原住', '部分', '民族', '缺乏', '科目', '可', '草案', '是否'}\n",
      "========================================================================================================================\n",
      "【顏國樑】 對陳張培倫之交集為 : {'中心', '附件', '草案', '考量', '原住民', '本院'}\n",
      "========================================================================================================================\n",
      "【林家琿】 對陳張培倫之交集為 : {'住民', '民族', '是否', '寒暑假', '本土', '情形', '附件', '新', '陸', '考量', '草案'}\n",
      "========================================================================================================================\n",
      "【陳張培倫】 之關鍵字為 ： ['原住民', '本土', '民族', '考科', '列入', '考科', '原住民', '升高', '有', '草案', '附件', '陸', '本土', '新', '住民', '本土', '客', '民族', '平埔族', '平埔族', '歸為', '原住', '民族', '基本法', '思考', '平埔族', '草案', '附件', '陸', '本土', '新', '住民', '部分', '民族', '寒暑假', '缺乏', '可', '需求', '考量', '民族', '是否', '寒暑假', '草案', '附件', '陸', '普通型', '修', '科目', '最低', '人', '情形', '特殊', '足以', '降低', '下限', '人', '端', '能', '限制', '考量', '草案', '附件', '原住民', '部定', '必修', '一般', '涉及', '受', '考量', '民族', '民族', '考科', '不同', '有', '需', '本院', '中心']\n"
     ]
    }
   ],
   "source": [
    "# 以陳張培倫爲例，將與陳張培倫高度相似的組群去除斷詞列表，並以交集關鍵字呈現\n",
    "top_1_subset_name = list(df[df['label'] == '陳張培倫']['name'])\n",
    "top_1_subset_stopword = list(df[df['label'] == '陳張培倫']['sentence'])\n",
    "main = df[df['name'] == '陳張培倫']['sentence'].values.tolist()[0]\n",
    "for no in range(len(top_1_subset_name)):\n",
    "    print(f'【{top_1_subset_name[no]}】 對陳張培倫之交集為 : {set(main).intersection(set(top_1_subset_stopword[no]))}',end = '\\n')\n",
    "    print('='*120)\n",
    "print(f'【陳張培倫】 之關鍵字為 ： {main}')"
   ]
  },
  {
   "cell_type": "markdown",
   "metadata": {},
   "source": [
    "## Doc2Vec"
   ]
  },
  {
   "cell_type": "code",
   "execution_count": null,
   "metadata": {},
   "outputs": [],
   "source": [
    "rows = StandardScaler().fit_transform(list(df['scores']))\n",
    "df_doc2vec = pd.DataFrame(rows,columns = list(df['name']))\n",
    "print(df_doc2vec.shape)\n",
    "df_doc2vec.head()"
   ]
  },
  {
   "cell_type": "markdown",
   "metadata": {},
   "source": [
    "## PCA（Dimension Reduction）"
   ]
  },
  {
   "cell_type": "code",
   "execution_count": null,
   "metadata": {},
   "outputs": [],
   "source": [
    "x = df_doc2vec.loc[:,:].values\n",
    "pca = PCA(n_components = 2)\n",
    "principalComponents = pca.fit_transform(x)\n",
    "principalDf = pd.DataFrame(data = principalComponents,columns = ['feature_1', 'feature_2'])\n",
    "finalDf = pd.concat([principalDf, df[['name']]], axis = 1)\n",
    "print(finalDf.shape)\n",
    "finalDf.head()"
   ]
  },
  {
   "cell_type": "code",
   "execution_count": null,
   "metadata": {},
   "outputs": [],
   "source": [
    "# 顔色設定(本院 / 非本院)\n",
    "finalDf['color'] = finalDf['name'].apply(lambda name:\"1\" if name in final_in_ppl else \"0\")"
   ]
  },
  {
   "cell_type": "code",
   "execution_count": null,
   "metadata": {},
   "outputs": [],
   "source": [
    "# 顔色設定（依 label 上色）\n",
    "case_own = {}\n",
    "label_list = list(df['label'])\n",
    "name_list = list(finalDf['name'])\n",
    "\n",
    "for each in df['label'].unique():\n",
    "    case_own[str(name_list.index(each))] = each\n",
    "    \n",
    "for case in case_own.keys():\n",
    "    label_list[int(case)] = case_own[case]\n",
    "    \n",
    "finalDf['color_label'] = label_list"
   ]
  },
  {
   "cell_type": "code",
   "execution_count": null,
   "metadata": {},
   "outputs": [],
   "source": [
    "pca.explained_variance_ratio_"
   ]
  },
  {
   "cell_type": "code",
   "execution_count": null,
   "metadata": {},
   "outputs": [],
   "source": [
    "fig = px.scatter(                                             \\\n",
    "    finalDf, x=\"feature_1\", y=\"feature_2\",                    \\\n",
    "    title = 'PCA：以全體人員相似度作爲特徵截取之觀測（散點圖）',  \\\n",
    "    text = \"name\",                                            \\\n",
    "    color = \"color_label\"\n",
    ")\n",
    "\n",
    "fig.show()"
   ]
  },
  {
   "cell_type": "markdown",
   "metadata": {},
   "source": [
    "## 代表人物之關鍵字分析"
   ]
  },
  {
   "cell_type": "code",
   "execution_count": null,
   "metadata": {},
   "outputs": [],
   "source": [
    "X_MIN = -3.13\n",
    "X_MAX = 0\n",
    "Y_MIN = -1\n",
    "Y_MAX = 1\n",
    "\n",
    "name_aly_list = finalDf[((finalDf['feature_1'] > X_MIN) & (finalDf['feature_1'] < X_MAX)) & ((finalDf['feature_2'] > Y_MIN) & (finalDf['feature_2'] < Y_MAX))]['name'].values.tolist()"
   ]
  },
  {
   "cell_type": "code",
   "execution_count": null,
   "metadata": {},
   "outputs": [],
   "source": [
    "name_aly_list"
   ]
  },
  {
   "cell_type": "code",
   "execution_count": null,
   "metadata": {},
   "outputs": [],
   "source": [
    "test1 = df[~df['name'].isin(name_aly_list)].reset_index(drop = True)['name'].values.tolist()"
   ]
  },
  {
   "cell_type": "code",
   "execution_count": null,
   "metadata": {},
   "outputs": [],
   "source": [
    "test1"
   ]
  }
 ],
 "metadata": {
  "kernelspec": {
   "display_name": "Python 3",
   "language": "python",
   "name": "python3"
  },
  "language_info": {
   "codemirror_mode": {
    "name": "ipython",
    "version": 3
   },
   "file_extension": ".py",
   "mimetype": "text/x-python",
   "name": "python",
   "nbconvert_exporter": "python",
   "pygments_lexer": "ipython3",
   "version": "3.7.4"
  }
 },
 "nbformat": 4,
 "nbformat_minor": 2
}
